{
  "nbformat": 4,
  "nbformat_minor": 0,
  "metadata": {
    "kernelspec": {
      "display_name": "Python 3",
      "language": "python",
      "name": "python3"
    },
    "language_info": {
      "codemirror_mode": {
        "name": "ipython",
        "version": 3
      },
      "file_extension": ".py",
      "mimetype": "text/x-python",
      "name": "python",
      "nbconvert_exporter": "python",
      "pygments_lexer": "ipython3",
      "version": "3.7.0"
    },
    "colab": {
      "name": "ejercicio_colores.ipynb",
      "provenance": [],
      "collapsed_sections": []
    }
  },
  "cells": [
    {
      "cell_type": "code",
      "metadata": {
        "id": "pt7tR-BpAAZf",
        "colab_type": "code",
        "outputId": "5ae1b257-529f-4265-a162-d14a8c418285",
        "colab": {
          "base_uri": "https://localhost:8080/",
          "height": 34
        }
      },
      "source": [
        "from PIL import Image\n",
        "import matplotlib.pyplot as plt\n",
        "import glob\n",
        "\n",
        "img_list = glob.glob('img/*.jpg')\n",
        "img_rgb = []\n",
        "IMG_COLOR = 'RGB'\n",
        "\n",
        "for i in img_list:\n",
        "    img_rgb.append(Image.open(i).convert(IMG_COLOR))\n"
      ],
      "execution_count": 7,
      "outputs": [
        {
          "output_type": "stream",
          "text": [
            "[]\n"
          ],
          "name": "stdout"
        }
      ]
    },
    {
      "cell_type": "code",
      "metadata": {
        "pycharm": {
          "name": "#%%\n"
        },
        "id": "iG0TKlWzAAaT",
        "colab_type": "code",
        "colab": {}
      },
      "source": [
        "red_channel = []\n",
        "green_channel = []\n",
        "blue_channel = []\n",
        "\n",
        "for i in img_rgb:\n",
        "    r, g, b = i.split()\n",
        "    red_channel.append(r)\n",
        "    green_channel.append(g)\n",
        "    blue_channel.append(b)"
      ],
      "execution_count": 0,
      "outputs": []
    },
    {
      "cell_type": "code",
      "metadata": {
        "pycharm": {
          "name": "#%%\n"
        },
        "id": "SrQb3qoTAAao",
        "colab_type": "code",
        "colab": {}
      },
      "source": [
        "filtro_rojo = (1, 0, 0)\n",
        "filtro_verde = (0, 1, 0)\n",
        "filtro_blue = (0, 0, 1)\n",
        "filtro_amarillo = (1, 1, 0)\n",
        "filtro_fucsia = (1, 0, 0.8)\n",
        "filtros_colores = [filtro_rojo, filtro_verde, filtro_blue, filtro_amarillo, filtro_fucsia]\n",
        "\n",
        "\n",
        "def ponderar_color(filtro, r, g, b):\n",
        "    \"\"\"\n",
        "    Pondera los colores rgb, según el filtro.\n",
        "    :param filtro: filtro de un color\n",
        "    :param r: canal red\n",
        "    :param g: canal green\n",
        "    :param b: canal blue\n",
        "    :return: tupla (r, g, b) ponderada segun el filtro\n",
        "    \"\"\"\n",
        "    r1 = r.point(lambda j: j * filtro[0])\n",
        "    g1 = g.point(lambda j: j * filtro[1])\n",
        "    b1 = b.point(lambda j: j * filtro[2])\n",
        "    return r1, g1, b1\n"
      ],
      "execution_count": 0,
      "outputs": []
    },
    {
      "cell_type": "code",
      "metadata": {
        "pycharm": {
          "name": "#%%\n"
        },
        "id": "R6BIAd1NAAa8",
        "colab_type": "code",
        "colab": {}
      },
      "source": [
        "resultado_ponderado_lista = []\n",
        "for i in range(len(img_rgb)):\n",
        "    res_p_temp = []\n",
        "    for f in filtros_colores:\n",
        "        res_p_temp.append(ponderar_color(f, red_channel[i], green_channel[i], blue_channel[i]))\n",
        "    resultado_ponderado_lista.append(res_p_temp)\n",
        "    \n",
        "resultado_merge = []\n",
        "for r_ponderado in resultado_ponderado_lista:\n",
        "  r_merge_temp = []\n",
        "  for r in r_ponderado:\n",
        "    \n",
        "#resultado5 = Image.merge('RGB', (r5, g5, b5)"
      ],
      "execution_count": 0,
      "outputs": []
    },
    {
      "cell_type": "code",
      "metadata": {
        "id": "ssVEtVQvCq9N",
        "colab_type": "code",
        "colab": {}
      },
      "source": [
        ""
      ],
      "execution_count": 0,
      "outputs": []
    }
  ]
}