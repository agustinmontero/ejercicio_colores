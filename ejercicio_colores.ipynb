{
 "nbformat": 4,
 "nbformat_minor": 0,
 "metadata": {
  "kernelspec": {
   "display_name": "Python 3",
   "language": "python",
   "name": "python3"
  },
  "language_info": {
   "codemirror_mode": {
    "name": "ipython",
    "version": 3
   },
   "file_extension": ".py",
   "mimetype": "text/x-python",
   "name": "python",
   "nbconvert_exporter": "python",
   "pygments_lexer": "ipython3",
   "version": "3.7.0"
  },
  "colab": {
   "name": "ejercicio_colores.ipynb",
   "provenance": [],
   "collapsed_sections": []
  }
 },
 "cells": [
  {
   "cell_type": "code",
   "metadata": {
    "id": "pt7tR-BpAAZf",
    "colab_type": "code",
    "outputId": "5ae1b257-529f-4265-a162-d14a8c418285",
    "colab": {
     "base_uri": "https://localhost:8080/",
     "height": 34
    }
   },
   "source": [
    "from PIL import Image\n",
    "import matplotlib.pyplot as plt\n",
    "import glob\n",
    "\n",
    "img_list = glob.glob('img/*.jpg')\n",
    "IMG_COLOR = 'RGB'\n",
    "\n",
    "img_dict = {}\n",
    "\n",
    "for i in img_list:\n",
    "    i_rgb = Image.open(i).convert(IMG_COLOR)\n",
    "    img_dict[i] = {}\n",
    "    img_dict[i]['rgb'] = i_rgb\n",
    "    _r, _g, _b = i_rgb.split()\n",
    "    img_dict[i]['red'] = _r\n",
    "    img_dict[i]['green'] = _g\n",
    "    img_dict[i]['blue'] = _b\n"
   ],
   "execution_count": 6,
   "outputs": []
  },
  {
   "cell_type": "code",
   "metadata": {
    "pycharm": {
     "name": "#%%\n"
    },
    "id": "SrQb3qoTAAao",
    "colab_type": "code",
    "colab": {}
   },
   "source": [
    "filtros_colores_dict = {\n",
    "    'rojo': (1, 0, 0),\n",
    "    'verde': (0, 1, 0),\n",
    "    'azul': (0, 0, 1),\n",
    "    'amarillo': (1, 1, 0),\n",
    "    'fucsia': (1, 0, 0.8)\n",
    "}\n",
    "\n",
    "def ponderar_color(filtro, r, g, b):\n",
    "    \"\"\"\n",
    "    Pondera los colores rgb, según el filtro.\n",
    "    :param filtro: filtro de un color\n",
    "    :param r: canal red\n",
    "    :param g: canal green\n",
    "    :param b: canal blue\n",
    "    :return: tupla (r, g, b) ponderada segun el filtro\n",
    "    \"\"\"\n",
    "    r1 = r.point(lambda j: j * filtro[0])\n",
    "    g1 = g.point(lambda j: j * filtro[1])\n",
    "    b1 = b.point(lambda j: j * filtro[2])\n",
    "    return r1, g1, b1\n"
   ],
   "execution_count": 7,
   "outputs": []
  },
  {
   "cell_type": "code",
   "metadata": {
    "pycharm": {
     "name": "#%%\n"
    },
    "id": "R6BIAd1NAAa8",
    "colab_type": "code",
    "colab": {}
   },
   "source": [
    "for i_path in img_dict.keys():\n",
    "    img_dict[i_path]['merge'] = {}\n",
    "    for nombre_filtro, fil in filtros_colores_dict.items():\n",
    "        r_pond, g_pond, b_pond = ponderar_color(fil, img_dict[i_path]['red'], img_dict[i_path]['green'], img_dict[i_path]['blue'])\n",
    "        img_dict[i_path]['merge'][nombre_filtro] = Image.merge('RGB', (r_pond, g_pond, b_pond))\n",
    "    \n",
    "\n",
    "\n",
    "\n"
   ],
   "execution_count": 9,
   "outputs": []
  }
 ]
}